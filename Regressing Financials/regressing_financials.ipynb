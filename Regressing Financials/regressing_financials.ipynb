{
 "cells": [
  {
   "cell_type": "markdown",
   "metadata": {},
   "source": [
    "# Regressing Financial Data\n",
    "**By Jayden Nyamiaka**\n",
    "\n",
    "In this notebook, we will work with an excel file that contains financial information for a large set of companies for the period 1980-2000s (company-financials.xlsx). The appendix (company-financials-appendix.txt) the labels for each variable.\n",
    "\n",
    "We will investigate which variables explain (predict) financial leverage, i.e. the amount of debt that companies take on. We will also illustrate how standard errors relate to sampling."
   ]
  },
  {
   "cell_type": "code",
   "execution_count": 86,
   "metadata": {},
   "outputs": [],
   "source": [
    "## Import necessary packages\n",
    "import random\n",
    "import numpy as np\n",
    "import pandas as pd\n",
    "import matplotlib.pyplot as plt\n",
    "import statsmodels.formula.api as smf"
   ]
  },
  {
   "cell_type": "code",
   "execution_count": 87,
   "metadata": {},
   "outputs": [
    {
     "name": "stdout",
     "output_type": "stream",
     "text": [
      "   gvkey   datadate    capxv      dltt      dpc     invt  oancf    oiadp  \\\n",
      "0   1045 1980-12-31  431.335  1271.113  233.521  185.081    NaN  -86.253   \n",
      "1   1045 1981-12-31  542.166  1516.426  233.423  186.065    NaN   72.214   \n",
      "2   1045 1982-12-31  421.354  1516.609  244.051  193.634    NaN    9.137   \n",
      "3   1045 1983-12-31  536.039  1511.541  297.188  192.605    NaN  281.484   \n",
      "4   1045 1984-12-31  516.174  1541.406  307.726  197.521    NaN  368.526   \n",
      "\n",
      "     ppevbb    ppeveb   pstkrv     sppe   naics   sic     prc  shrout  \n",
      "0  3459.592  3275.725  125.000    5.864  481111  4512   9.000   28698  \n",
      "1  3275.725  3781.232  125.000   27.123  481111  4512  11.000   28766  \n",
      "2  3781.232  4167.129  125.000    4.622  481111  4512  24.750   37241  \n",
      "3  4167.141  4555.527  254.350   29.459  481111  4512  36.125   48374  \n",
      "4  4555.512  4626.039  264.038  147.016  481111  4512  36.125   48453  \n"
     ]
    }
   ],
   "source": [
    "## Import data\n",
    "filename = \"company-financials.xlsx\"\n",
    "df = pd.read_excel(filename)\n",
    "\n",
    "## View sample of the data\n",
    "print(df.head())"
   ]
  },
  {
   "cell_type": "code",
   "execution_count": 88,
   "metadata": {},
   "outputs": [
    {
     "data": {
      "text/html": [
       "<div>\n",
       "<style scoped>\n",
       "    .dataframe tbody tr th:only-of-type {\n",
       "        vertical-align: middle;\n",
       "    }\n",
       "\n",
       "    .dataframe tbody tr th {\n",
       "        vertical-align: top;\n",
       "    }\n",
       "\n",
       "    .dataframe thead th {\n",
       "        text-align: right;\n",
       "    }\n",
       "</style>\n",
       "<table border=\"1\" class=\"dataframe\">\n",
       "  <thead>\n",
       "    <tr style=\"text-align: right;\">\n",
       "      <th></th>\n",
       "      <th>gvkey</th>\n",
       "      <th>datadate</th>\n",
       "      <th>capxv</th>\n",
       "      <th>dltt</th>\n",
       "      <th>dpc</th>\n",
       "      <th>invt</th>\n",
       "      <th>oancf</th>\n",
       "      <th>oiadp</th>\n",
       "      <th>ppevbb</th>\n",
       "      <th>ppeveb</th>\n",
       "      <th>pstkrv</th>\n",
       "      <th>sppe</th>\n",
       "      <th>naics</th>\n",
       "      <th>sic</th>\n",
       "      <th>prc</th>\n",
       "      <th>shrout</th>\n",
       "      <th>year</th>\n",
       "      <th>equity</th>\n",
       "      <th>assets</th>\n",
       "      <th>leverage</th>\n",
       "    </tr>\n",
       "  </thead>\n",
       "  <tbody>\n",
       "    <tr>\n",
       "      <th>0</th>\n",
       "      <td>1045</td>\n",
       "      <td>1980-12-31</td>\n",
       "      <td>431.335</td>\n",
       "      <td>1271.113</td>\n",
       "      <td>233.521</td>\n",
       "      <td>185.081</td>\n",
       "      <td>NaN</td>\n",
       "      <td>-86.253</td>\n",
       "      <td>3459.592</td>\n",
       "      <td>3275.725</td>\n",
       "      <td>125.000</td>\n",
       "      <td>5.864</td>\n",
       "      <td>481111</td>\n",
       "      <td>4512</td>\n",
       "      <td>9.000</td>\n",
       "      <td>28698</td>\n",
       "      <td>1980</td>\n",
       "      <td>258282.000</td>\n",
       "      <td>1529395.000</td>\n",
       "      <td>0.831121</td>\n",
       "    </tr>\n",
       "    <tr>\n",
       "      <th>1</th>\n",
       "      <td>1045</td>\n",
       "      <td>1981-12-31</td>\n",
       "      <td>542.166</td>\n",
       "      <td>1516.426</td>\n",
       "      <td>233.423</td>\n",
       "      <td>186.065</td>\n",
       "      <td>NaN</td>\n",
       "      <td>72.214</td>\n",
       "      <td>3275.725</td>\n",
       "      <td>3781.232</td>\n",
       "      <td>125.000</td>\n",
       "      <td>27.123</td>\n",
       "      <td>481111</td>\n",
       "      <td>4512</td>\n",
       "      <td>11.000</td>\n",
       "      <td>28766</td>\n",
       "      <td>1981</td>\n",
       "      <td>316426.000</td>\n",
       "      <td>1832852.000</td>\n",
       "      <td>0.827359</td>\n",
       "    </tr>\n",
       "    <tr>\n",
       "      <th>2</th>\n",
       "      <td>1045</td>\n",
       "      <td>1982-12-31</td>\n",
       "      <td>421.354</td>\n",
       "      <td>1516.609</td>\n",
       "      <td>244.051</td>\n",
       "      <td>193.634</td>\n",
       "      <td>NaN</td>\n",
       "      <td>9.137</td>\n",
       "      <td>3781.232</td>\n",
       "      <td>4167.129</td>\n",
       "      <td>125.000</td>\n",
       "      <td>4.622</td>\n",
       "      <td>481111</td>\n",
       "      <td>4512</td>\n",
       "      <td>24.750</td>\n",
       "      <td>37241</td>\n",
       "      <td>1982</td>\n",
       "      <td>921714.750</td>\n",
       "      <td>2438323.750</td>\n",
       "      <td>0.621988</td>\n",
       "    </tr>\n",
       "    <tr>\n",
       "      <th>3</th>\n",
       "      <td>1045</td>\n",
       "      <td>1983-12-31</td>\n",
       "      <td>536.039</td>\n",
       "      <td>1511.541</td>\n",
       "      <td>297.188</td>\n",
       "      <td>192.605</td>\n",
       "      <td>NaN</td>\n",
       "      <td>281.484</td>\n",
       "      <td>4167.141</td>\n",
       "      <td>4555.527</td>\n",
       "      <td>254.350</td>\n",
       "      <td>29.459</td>\n",
       "      <td>481111</td>\n",
       "      <td>4512</td>\n",
       "      <td>36.125</td>\n",
       "      <td>48374</td>\n",
       "      <td>1983</td>\n",
       "      <td>1747510.750</td>\n",
       "      <td>3259051.750</td>\n",
       "      <td>0.463798</td>\n",
       "    </tr>\n",
       "    <tr>\n",
       "      <th>4</th>\n",
       "      <td>1045</td>\n",
       "      <td>1984-12-31</td>\n",
       "      <td>516.174</td>\n",
       "      <td>1541.406</td>\n",
       "      <td>307.726</td>\n",
       "      <td>197.521</td>\n",
       "      <td>NaN</td>\n",
       "      <td>368.526</td>\n",
       "      <td>4555.512</td>\n",
       "      <td>4626.039</td>\n",
       "      <td>264.038</td>\n",
       "      <td>147.016</td>\n",
       "      <td>481111</td>\n",
       "      <td>4512</td>\n",
       "      <td>36.125</td>\n",
       "      <td>48453</td>\n",
       "      <td>1984</td>\n",
       "      <td>1750364.625</td>\n",
       "      <td>3291770.625</td>\n",
       "      <td>0.468260</td>\n",
       "    </tr>\n",
       "  </tbody>\n",
       "</table>\n",
       "</div>"
      ],
      "text/plain": [
       "   gvkey   datadate    capxv      dltt      dpc     invt  oancf    oiadp  \\\n",
       "0   1045 1980-12-31  431.335  1271.113  233.521  185.081    NaN  -86.253   \n",
       "1   1045 1981-12-31  542.166  1516.426  233.423  186.065    NaN   72.214   \n",
       "2   1045 1982-12-31  421.354  1516.609  244.051  193.634    NaN    9.137   \n",
       "3   1045 1983-12-31  536.039  1511.541  297.188  192.605    NaN  281.484   \n",
       "4   1045 1984-12-31  516.174  1541.406  307.726  197.521    NaN  368.526   \n",
       "\n",
       "     ppevbb    ppeveb   pstkrv     sppe   naics   sic     prc  shrout  year  \\\n",
       "0  3459.592  3275.725  125.000    5.864  481111  4512   9.000   28698  1980   \n",
       "1  3275.725  3781.232  125.000   27.123  481111  4512  11.000   28766  1981   \n",
       "2  3781.232  4167.129  125.000    4.622  481111  4512  24.750   37241  1982   \n",
       "3  4167.141  4555.527  254.350   29.459  481111  4512  36.125   48374  1983   \n",
       "4  4555.512  4626.039  264.038  147.016  481111  4512  36.125   48453  1984   \n",
       "\n",
       "        equity       assets  leverage  \n",
       "0   258282.000  1529395.000  0.831121  \n",
       "1   316426.000  1832852.000  0.827359  \n",
       "2   921714.750  2438323.750  0.621988  \n",
       "3  1747510.750  3259051.750  0.463798  \n",
       "4  1750364.625  3291770.625  0.468260  "
      ]
     },
     "execution_count": 88,
     "metadata": {},
     "output_type": "execute_result"
    }
   ],
   "source": [
    "### Create variables\n",
    "\n",
    "# Add year column (the year of datadate)\n",
    "date_col = df['datadate']\n",
    "def extract_year(date: np.datetime64):\n",
    "    return date.year\n",
    "year_col = date_col.apply(extract_year)\n",
    "df['year'] = year_col\n",
    "\n",
    "# Add equity column (stock price * number of shares)\n",
    "df['equity'] = df[\"prc\"] * df[\"shrout\"]\n",
    "\n",
    "# Add assets column (assets = equity + long-term debt)\n",
    "df['assets'] = df[\"equity\"] + df[\"dltt\"] * 1000\n",
    "\n",
    "# Add leverage column (leverage = long-term debt / assets)\n",
    "df['leverage'] = df[\"dltt\"] * 1000 / df[\"assets\"] \n",
    "\n",
    "# Drop all observations with negative stock prices\n",
    "df.drop(df[df['prc'] < 0].index, inplace=True)\n",
    "\n",
    "# View sample of transformed dataframe\n",
    "df.head()"
   ]
  },
  {
   "cell_type": "code",
   "execution_count": 89,
   "metadata": {},
   "outputs": [
    {
     "name": "stdout",
     "output_type": "stream",
     "text": [
      "We can observe a few things from our transformed data.\n",
      "There are 381 unique companies in the dataset.\n",
      "There are, on average, 22.826771653543307 observations per company.\n",
      "\n",
      "Let's visualize leverage for companies in 1990:\n"
     ]
    },
    {
     "data": {
      "text/plain": [
       "<Axes: title={'center': 'Leverage for Companies in 1990'}, xlabel='Number of Companies', ylabel='Leverage'>"
      ]
     },
     "execution_count": 89,
     "metadata": {},
     "output_type": "execute_result"
    },
    {
     "data": {
      "image/png": "[encoded data removed]",
      "text/plain": [
       "<Figure size 640x480 with 1 Axes>"
      ]
     },
     "metadata": {},
     "output_type": "display_data"
    }
   ],
   "source": [
    "print(\"We can observe a few things from our transformed data.\")\n",
    "\n",
    "num_unique_companies = df['gvkey'].nunique()\n",
    "print(f\"There are {num_unique_companies} unique companies in the dataset.\")\n",
    "\n",
    "obs_per_company = df['gvkey'].value_counts().mean()\n",
    "print(f\"There are, on average, {obs_per_company} observations per company.\")\n",
    "\n",
    "print(\"\\nLet's visualize leverage for companies in 1990:\")\n",
    "df_1990 = df[df['year'] == 1990]\n",
    "df_1990['leverage'].plot.hist(xlabel=\"Number of Companies\", ylabel=\"Leverage\", \n",
    "                              title=\"Leverage for Companies in 1990\")"
   ]
  },
  {
   "cell_type": "markdown",
   "metadata": {},
   "source": [
    "We hypothesize that the “model of the world” (CEF) can be linearly approximated by the\n",
    "following: \n",
    "\n",
    "$Leverage _{it} = constant + \\beta _1 \\log  (CapitalExpenditure) + \\beta _2 \\log (OperatingIncome _{it}) + controls _{it}$\n",
    "\n",
    "We will estimate this model using Ordinary Least Squares using heteroskedasticity-robust standard\n",
    "errors in four different ways:\n",
    "1. No controls\n",
    "2. Control variables: Year fixed effects\n",
    "3. Control variables: Company fixed effects\n",
    "4. Control variables: Company and Year fixed effects"
   ]
  },
  {
   "cell_type": "code",
   "execution_count": 90,
   "metadata": {},
   "outputs": [
    {
     "name": "stderr",
     "output_type": "stream",
     "text": [
      "c:\\Users\\jmtot\\AppData\\Local\\Programs\\Python\\Python312\\Lib\\site-packages\\pandas\\core\\arraylike.py:399: RuntimeWarning: divide by zero encountered in log\n",
      "  result = getattr(ufunc, method)(*inputs, **kwargs)\n",
      "c:\\Users\\jmtot\\AppData\\Local\\Programs\\Python\\Python312\\Lib\\site-packages\\pandas\\core\\arraylike.py:399: RuntimeWarning: invalid value encountered in log\n",
      "  result = getattr(ufunc, method)(*inputs, **kwargs)\n",
      "c:\\Users\\jmtot\\AppData\\Local\\Programs\\Python\\Python312\\Lib\\site-packages\\pandas\\core\\arraylike.py:399: RuntimeWarning: invalid value encountered in log\n",
      "  result = getattr(ufunc, method)(*inputs, **kwargs)\n"
     ]
    }
   ],
   "source": [
    "### Regression estimates, interpretation, and standard errors. Report R-squared.\n",
    "\n",
    "# Prepare data by removing all rows with no data for the columns we want to regress on\n",
    "df_reg = df[['capxv','oiadp','leverage', 'year', 'gvkey']].copy()\n",
    "df_reg['logCapExp'] = np.log(df['capxv'])\n",
    "df_reg['logOpInc'] = np.log(df['oiadp'])\n",
    "df_reg.replace([np.inf, -np.inf], np.nan, inplace=True)\n",
    "df_reg.dropna(inplace=True)"
   ]
  },
  {
   "cell_type": "code",
   "execution_count": 91,
   "metadata": {},
   "outputs": [
    {
     "name": "stdout",
     "output_type": "stream",
     "text": [
      "Linear Regression with No Control Variables\n",
      "R2: 0.06714884962353385\n",
      "Params: \n",
      "Intercept    0.253473\n",
      "logCapExp    0.064518\n",
      "logOpInc    -0.056463\n",
      "dtype: float64\n",
      "Standard Error: \n",
      "Intercept    0.008005\n",
      "logCapExp    0.002830\n",
      "logOpInc     0.002764\n",
      "dtype: float64\n"
     ]
    }
   ],
   "source": [
    "# 1. No controls\n",
    "print(\"Linear Regression with No Control Variables\")\n",
    "reg1 = smf.ols(formula=\"leverage ~ logCapExp + logOpInc\", data=df_reg).fit(cov_type='HC3')\n",
    "print(f\"R2: {reg1.rsquared}\")\n",
    "print(f\"Params: \\n{reg1.params}\")\n",
    "print(f\"Standard Error: \\n{reg1.bse}\")\n",
    "#print(reg1.summary())"
   ]
  },
  {
   "cell_type": "markdown",
   "metadata": {},
   "source": [
    "For this regression, we see the beta coefficients on log(capital expenditure) and log(operating income) are 0.0645 and -0.0565, respectively. This tells us that, on average, for every 1% increase in capital expenditure, the ratio for leverage increases by 0.0645 * ln(1 + 1/100), and for small percent changes, every 1% increase in capital expenditure, the ratio for leverage increases by 0.0645 / 100. Likewise, this also tells us that, on average, for every 1% increase in operating income, the ratio for leverage decreases by 0.056463 * ln(1 + 1/100), and for small percent changes, every 1% increases in operating income, the ratio for leverage decreases by 0.056463 / 100. Additionally, the standard errors for the beta coefficients on log(capital expenditure) and log(operating income) are 0.0028 and 0.0028, respectively. The value of R^2 value is 0.067, revealing a potentially poor correlation."
   ]
  },
  {
   "cell_type": "code",
   "execution_count": 92,
   "metadata": {},
   "outputs": [
    {
     "name": "stdout",
     "output_type": "stream",
     "text": [
      "\n",
      "Linear Regression controlling for Year\n",
      "R2: 0.07962836714735677\n",
      "Params: \n",
      "Intercept          0.280516\n",
      "C(year)[T.1981]    0.004855\n",
      "C(year)[T.1982]    0.011633\n",
      "C(year)[T.1983]   -0.026305\n",
      "C(year)[T.1984]   -0.017482\n",
      "C(year)[T.1985]   -0.043973\n",
      "C(year)[T.1986]   -0.044483\n",
      "C(year)[T.1987]   -0.039293\n",
      "C(year)[T.1988]   -0.028596\n",
      "C(year)[T.1989]   -0.033585\n",
      "C(year)[T.1990]   -0.007237\n",
      "C(year)[T.1991]   -0.039277\n",
      "C(year)[T.1992]   -0.038666\n",
      "C(year)[T.1993]   -0.059548\n",
      "C(year)[T.1994]   -0.041761\n",
      "C(year)[T.1995]   -0.048740\n",
      "C(year)[T.1996]   -0.053841\n",
      "C(year)[T.1997]   -0.074576\n",
      "C(year)[T.1998]   -0.049859\n",
      "C(year)[T.1999]   -0.025676\n",
      "C(year)[T.2000]   -0.009899\n",
      "C(year)[T.2001]   -0.005053\n",
      "C(year)[T.2002]    0.018995\n",
      "C(year)[T.2003]   -0.001745\n",
      "logCapExp          0.064305\n",
      "logOpInc          -0.056053\n",
      "dtype: float64\n",
      "Standard Error: \n",
      "Intercept          0.014496\n",
      "C(year)[T.1981]    0.017818\n",
      "C(year)[T.1982]    0.017338\n",
      "C(year)[T.1983]    0.016997\n",
      "C(year)[T.1984]    0.016580\n",
      "C(year)[T.1985]    0.016281\n",
      "C(year)[T.1986]    0.016711\n",
      "C(year)[T.1987]    0.016554\n",
      "C(year)[T.1988]    0.016486\n",
      "C(year)[T.1989]    0.016600\n",
      "C(year)[T.1990]    0.016941\n",
      "C(year)[T.1991]    0.016527\n",
      "C(year)[T.1992]    0.016899\n",
      "C(year)[T.1993]    0.016240\n",
      "C(year)[T.1994]    0.016400\n",
      "C(year)[T.1995]    0.016452\n",
      "C(year)[T.1996]    0.016287\n",
      "C(year)[T.1997]    0.015821\n",
      "C(year)[T.1998]    0.016669\n",
      "C(year)[T.1999]    0.016916\n",
      "C(year)[T.2000]    0.017247\n",
      "C(year)[T.2001]    0.017295\n",
      "C(year)[T.2002]    0.017557\n",
      "C(year)[T.2003]    0.017220\n",
      "logCapExp          0.002845\n",
      "logOpInc           0.002838\n",
      "dtype: float64\n"
     ]
    }
   ],
   "source": [
    "# 2. Control variables: Year fixed effects\n",
    "print(\"\\nLinear Regression controlling for Year\")\n",
    "reg2 = smf.ols(formula=\"leverage ~ logCapExp + logOpInc + C(year)\", data=df_reg).fit(cov_type='HC3')\n",
    "print(f\"R2: {reg2.rsquared}\")\n",
    "print(f\"Params: \\n{reg2.params}\")\n",
    "print(f\"Standard Error: \\n{reg2.bse}\")\n",
    "#print(reg2.summary())"
   ]
  },
  {
   "cell_type": "markdown",
   "metadata": {},
   "source": [
    "For this regression, we see the beta coefficients on log(capital expenditure) and log(operating income) are 0.064305 and -0.056053, respectively. This tells us that, on average, for every 1% increase in capital expenditure, the ratio for leverage increases by 0.064305 * ln(1 + 1/100), and for small percent changes, every 1% increase in capital expenditure, the ratio for leverage increases by 0.064305 / 100. Likewise, this also tells us that, on average, for every 1% increase in operating income, the ratio for leverage decreases by 0.056053 * ln(1 + 1/100), and for small percent changes, every 1% increase in operating income, the ratio for leverage decreases by 0.056053 / 100. Additionally, the standard errors for the beta coefficients on log(capital expenditure) and log(operating income) are 0.0028 and 0.0028, respectively. The value of R^2 value is 0.080, revealing a potentially poor correlation."
   ]
  },
  {
   "cell_type": "code",
   "execution_count": 93,
   "metadata": {},
   "outputs": [
    {
     "name": "stdout",
     "output_type": "stream",
     "text": [
      "\n",
      "Linear Regression controlling for Company\n",
      "R2: 0.7047344218135714\n",
      "Coefficients: \n",
      "Intercept            0.524744\n",
      "C(gvkey)[T.1075]     0.064843\n",
      "C(gvkey)[T.1161]    -0.417744\n",
      "C(gvkey)[T.1209]    -0.253197\n",
      "C(gvkey)[T.1230]    -0.040751\n",
      "                       ...   \n",
      "C(gvkey)[T.15247]   -0.052796\n",
      "C(gvkey)[T.23769]   -0.268110\n",
      "C(gvkey)[T.28590]   -0.377676\n",
      "logCapExp            0.016577\n",
      "logOpInc            -0.025805\n",
      "Length: 383, dtype: float64\n",
      "Standard Error: \n",
      "Intercept            0.034348\n",
      "C(gvkey)[T.1075]     0.039264\n",
      "C(gvkey)[T.1161]     0.034128\n",
      "C(gvkey)[T.1209]     0.031286\n",
      "C(gvkey)[T.1230]     0.048191\n",
      "                       ...   \n",
      "C(gvkey)[T.15247]    0.048640\n",
      "C(gvkey)[T.23769]    0.045319\n",
      "C(gvkey)[T.28590]    0.034604\n",
      "logCapExp            0.002901\n",
      "logOpInc             0.002771\n",
      "Length: 383, dtype: float64\n"
     ]
    }
   ],
   "source": [
    "# 3. Control variables: Company fixed effects\n",
    "print(\"\\nLinear Regression controlling for Company\")\n",
    "reg3 = smf.ols(formula=\"leverage ~ logCapExp + logOpInc + C(gvkey)\", data=df_reg).fit(cov_type='HC3')\n",
    "print(f\"R2: {reg3.rsquared}\")\n",
    "print(f\"Coefficients: \\n{reg3.params}\")\n",
    "print(f\"Standard Error: \\n{reg3.bse}\")\n",
    "#print(reg3.summary())"
   ]
  },
  {
   "cell_type": "markdown",
   "metadata": {},
   "source": [
    "For this regression, we see the beta coefficients on log(capital expenditure) and log(operating income) are 0.064305 and -0.056053, respectively. This tells us that, on average, for every 1% increase in capital expenditure, the ratio for leverage increases by 0.016577 * ln(1 + 1/100), and for small percent changes, every 1% increase in capital expenditure, the ratio for leverage increases by 0.016577 / 100. Likewise, this also tells us that, on average, for every 1% increase in operating income, the ratio for leverage decreases by 0.025805 * ln(1 + 1/100), and for small percent changes, every 1% increase in operating income, the ratio for leverage decreases by 0.025805 / 100. Additionally, the standard errors for the beta coefficients on log(capital expenditure) and log(operating income) are 0.0029 and 0.0028, respectively. The value of R^2 value is 0.705, revealing a potentially strong correlation."
   ]
  },
  {
   "cell_type": "code",
   "execution_count": 94,
   "metadata": {},
   "outputs": [
    {
     "name": "stdout",
     "output_type": "stream",
     "text": [
      "\n",
      "Linear Regression controlling for Company and Year\n",
      "R2: 0.7187825021463716\n",
      "Params: \n",
      "Intercept           0.545753\n",
      "C(gvkey)[T.1075]    0.061060\n",
      "C(gvkey)[T.1161]   -0.422774\n",
      "C(gvkey)[T.1209]   -0.258467\n",
      "C(gvkey)[T.1230]   -0.036914\n",
      "                      ...   \n",
      "C(year)[T.2001]    -0.007592\n",
      "C(year)[T.2002]     0.009021\n",
      "C(year)[T.2003]    -0.016848\n",
      "logCapExp           0.017257\n",
      "logOpInc           -0.023360\n",
      "Length: 406, dtype: float64\n",
      "Standard Error: \n",
      "Intercept           0.035520\n",
      "C(gvkey)[T.1075]    0.038173\n",
      "C(gvkey)[T.1161]    0.033153\n",
      "C(gvkey)[T.1209]    0.029468\n",
      "C(gvkey)[T.1230]    0.048238\n",
      "                      ...   \n",
      "C(year)[T.2001]     0.012749\n",
      "C(year)[T.2002]     0.012752\n",
      "C(year)[T.2003]     0.012492\n",
      "logCapExp           0.002956\n",
      "logOpInc            0.003129\n",
      "Length: 406, dtype: float64\n"
     ]
    }
   ],
   "source": [
    "# 4) Control variables: Company and Year fixed effect\n",
    "print(\"\\nLinear Regression controlling for Company and Year\")\n",
    "reg4 = smf.ols(formula=\"leverage ~ logCapExp + logOpInc + C(gvkey) + C(year)\", data=df_reg).fit(cov_type='HC3')\n",
    "print(f\"R2: {reg4.rsquared}\")\n",
    "print(f\"Params: \\n{reg4.params}\")\n",
    "print(f\"Standard Error: \\n{reg4.bse}\")\n",
    "#print(reg4.summary())"
   ]
  },
  {
   "cell_type": "markdown",
   "metadata": {},
   "source": [
    "For this regression, we see the beta coefficients on log(capital expenditure) and log(operating income) are 0.064305 and -0.056053, respectively. This tells us that, on average, for every 1% increase in capital expenditure, the ratio for leverage increases by 0.017257 * ln(1 + 1/100), and for small percent changes, every 1% increase in capital expenditure, the ratio for leverage increases by 0.017257 / 100. Likewise, this also tells us that, on average, for every 1% increase in operating income, the ratio for leverage decreases by 0.023360 * ln(1 + 1/100), and for small percent changes, every 1% increase in operating income, the ratio for leverage decreases by 0.023360 / 100. Additionally, the standard errors for the beta coefficients on log(capital expenditure) and log(operating income) are 0.0030 and 0.0031, respectively. The value of R^2 value is 0.719, revealing a potentially strong correlation."
   ]
  },
  {
   "cell_type": "code",
   "execution_count": 95,
   "metadata": {},
   "outputs": [
    {
     "name": "stdout",
     "output_type": "stream",
     "text": [
      "Standard Deviation for the Intercept is 0.043969007627680676.\n"
     ]
    },
    {
     "data": {
      "image/png": "[encoded data removed]",
      "text/plain": [
       "<Figure size 640x480 with 1 Axes>"
      ]
     },
     "metadata": {},
     "output_type": "display_data"
    },
    {
     "name": "stdout",
     "output_type": "stream",
     "text": [
      "Standard Deviation for Beta 1 is 0.012381020973511667.\n"
     ]
    },
    {
     "data": {
      "image/png": "[encoded data removed]",
      "text/plain": [
       "<Figure size 640x480 with 1 Axes>"
      ]
     },
     "metadata": {},
     "output_type": "display_data"
    },
    {
     "name": "stdout",
     "output_type": "stream",
     "text": [
      "Standard Deviation for the Beta 2 is 0.011903421836896742.\n"
     ]
    },
    {
     "data": {
      "image/png": "[encoded data removed]",
      "text/plain": [
       "<Figure size 640x480 with 1 Axes>"
      ]
     },
     "metadata": {},
     "output_type": "display_data"
    }
   ],
   "source": [
    "## 1000 Random samples and 1000 regression results (100 companies in each sample). Plot distribution of each beta coefficient.\n",
    "## Compare standard deviation of each distribution to standard error of regression (4) from the previous part.\n",
    "samples = 1000\n",
    "companies_per_sample = 100\n",
    "intercepts = []\n",
    "beta1s = []\n",
    "beta2s = []\n",
    "\n",
    "all_companies = list(df_reg['gvkey'].value_counts().index)\n",
    "for i in range(samples):\n",
    "    comp_sample = random.sample(all_companies, companies_per_sample)\n",
    "    df_sample = df_reg[df_reg['gvkey'].isin(comp_sample)]\n",
    "    reg = smf.ols(formula=\"leverage ~ logCapExp + logOpInc\", data=df_sample).fit(cov_type='HC3')\n",
    "    coefs = reg.params\n",
    "    intercepts.append(coefs.iloc[0])\n",
    "    beta1s.append(coefs.iloc[1])\n",
    "    beta2s.append(coefs.iloc[2])\n",
    "\n",
    "\n",
    "print(f\"Standard Deviation for the Intercept is {np.std(intercepts)}.\")\n",
    "plt.hist(intercepts)\n",
    "plt.xlabel(\"Intercept Values\")\n",
    "plt.ylabel(\"Frequency\")\n",
    "plt.title(\"Distribution of the Intercept over 1000 Random Samples\")\n",
    "plt.show()\n",
    "\n",
    "print(f\"Standard Deviation for Beta 1 is {np.std(beta1s)}.\")\n",
    "plt.hist(beta1s)\n",
    "plt.xlabel(\"Beta 1 Values for Log(Capital Expenditure)\")\n",
    "plt.ylabel(\"Frequency\")\n",
    "plt.title(\"Distribution of Beta 1 over 1000 Random Samples\")\n",
    "plt.show()\n",
    "\n",
    "print(f\"Standard Deviation for the Beta 2 is {np.std(beta2s)}.\")\n",
    "plt.hist(beta2s)\n",
    "plt.xlabel(\"Beta 2 Values for Log(Operating Income)\")\n",
    "plt.ylabel(\"Frequency\")\n",
    "plt.title(\"Distribution of Beta 2 over 1000 Random Samples\")\n",
    "plt.show()"
   ]
  },
  {
   "cell_type": "markdown",
   "metadata": {},
   "source": [
    "## Comparison\n",
    "We see that standard errors from the 4th regression in the last part are 0.0355, 0.0030, and 0.0031 for the Intercept, Beta 1, and Beta 2, respectively. While the standard deviations from our 1000 random samples are about 0.04, 0.013, and 0.011. We see that the standard errors for our beta coefficients in the regression is much less than our standard deviation from the 1000 random sampling. "
   ]
  }
 ],
 "metadata": {
  "kernelspec": {
   "display_name": "Python 3 (ipykernel)",
   "language": "python",
   "name": "python3"
  },
  "language_info": {
   "codemirror_mode": {
    "name": "ipython",
    "version": 3
   },
   "file_extension": ".py",
   "mimetype": "text/x-python",
   "name": "python",
   "nbconvert_exporter": "python",
   "pygments_lexer": "ipython3",
   "version": "3.12.3"
  }
 },
 "nbformat": 4,
 "nbformat_minor": 4
}
