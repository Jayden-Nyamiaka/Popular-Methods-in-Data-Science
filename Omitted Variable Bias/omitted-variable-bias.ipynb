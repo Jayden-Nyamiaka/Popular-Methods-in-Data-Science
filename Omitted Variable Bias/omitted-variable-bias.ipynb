{
 "cells": [
  {
   "cell_type": "markdown",
   "metadata": {},
   "source": [
    "# Omitted Variable Bias\n",
    "**By Jayden Nyamiaka**\n",
    "\n",
    "In this notebook, we will work with an excel file that containing artificially generated data from a known conditional expectation function (artificial-corr-data.xlsx).\n",
    "\n",
    "We will analyze three artificially created models in a controlled setting and purposefully exclude a variable from our regression in order to understand and estimate omitted variable bias. "
   ]
  },
  {
   "cell_type": "code",
   "execution_count": 1,
   "metadata": {},
   "outputs": [],
   "source": [
    "## Import necessary packages\n",
    "## Import necessary packages\n",
    "import pandas as pd\n",
    "import statsmodels.formula.api as smf"
   ]
  },
  {
   "cell_type": "code",
   "execution_count": 2,
   "metadata": {},
   "outputs": [
    {
     "name": "stdout",
     "output_type": "stream",
     "text": [
      "        y1      y2      y3     x1     x2    x3\n",
      "0  337.040  50.329  -4.271  94.45  49.39  2.10\n",
      "1  297.643  42.025  -1.395  82.66  43.53  1.67\n",
      "2  172.656  22.318  -5.242  26.52  30.24  1.06\n",
      "3  203.846  36.770 -12.630  49.02  33.56  1.90\n",
      "4  429.881  33.724   6.944  68.37  78.40  1.03\n"
     ]
    }
   ],
   "source": [
    "## Import data\n",
    "filename = \"artificial-corr-data.xlsx\"\n",
    "df = pd.read_excel(filename)\n",
    "\n",
    "## View sample of the data\n",
    "print(df.head())"
   ]
  },
  {
   "cell_type": "code",
   "execution_count": 3,
   "metadata": {},
   "outputs": [
    {
     "name": "stdout",
     "output_type": "stream",
     "text": [
      "Correlation table between all variables:\n",
      "          y1        y2        y3        x1        x2        x3\n",
      "y1  1.000000  0.723885  0.462326  0.291180  0.957684  0.353009\n",
      "y2  0.723885  1.000000  0.530262  0.724498  0.537554  0.590823\n",
      "y3  0.462326  0.530262  1.000000  0.833572  0.230993 -0.370743\n",
      "x1  0.291180  0.724498  0.833572  1.000000  0.013460  0.000401\n",
      "x2  0.957684  0.537554  0.230993  0.013460  1.000000  0.369034\n",
      "x3  0.353009  0.590823 -0.370743  0.000401  0.369034  1.000000\n",
      "                            OLS Regression Results                            \n",
      "==============================================================================\n",
      "Dep. Variable:                     y1   R-squared:                       0.085\n",
      "Model:                            OLS   Adj. R-squared:                  0.085\n",
      "Method:                 Least Squares   F-statistic:                     426.8\n",
      "Date:                Sun, 28 Apr 2024   Prob (F-statistic):           9.13e-91\n",
      "Time:                        16:34:56   Log-Likelihood:                -29065.\n",
      "No. Observations:                4626   AIC:                         5.813e+04\n",
      "Df Residuals:                    4624   BIC:                         5.815e+04\n",
      "Df Model:                           1                                         \n",
      "Covariance Type:                  HC3                                         \n",
      "==============================================================================\n",
      "                 coef    std err          z      P>|z|      [0.025      0.975]\n",
      "------------------------------------------------------------------------------\n",
      "Intercept    222.2364      3.860     57.572      0.000     214.671     229.802\n",
      "x1             1.3594      0.066     20.659      0.000       1.230       1.488\n",
      "==============================================================================\n",
      "Omnibus:                     2885.975   Durbin-Watson:                   2.008\n",
      "Prob(Omnibus):                  0.000   Jarque-Bera (JB):              260.595\n",
      "Skew:                          -0.002   Prob(JB):                     2.59e-57\n",
      "Kurtosis:                       1.837   Cond. No.                         118.\n",
      "==============================================================================\n",
      "\n",
      "Notes:\n",
      "[1] Standard Errors are heteroscedasticity robust (HC3)\n"
     ]
    }
   ],
   "source": [
    "# Part 1\n",
    "# The (artificially created) model of the world is\n",
    "#                    y1 = 1.3x1 + 4.5x2 + error\n",
    "\n",
    "# View correlation between x1 and x2\n",
    "print(\"Correlation table between all variables:\")\n",
    "print(df.corr())\n",
    "\n",
    "# Estimate the model y1 = b0 + b1*x1 + error using OLS with robust standard errors\n",
    "reg1 = smf.ols(formula=\"y1 ~ x1\", data=df).fit(cov_type='HC3')\n",
    "print(reg1.summary())"
   ]
  },
  {
   "cell_type": "markdown",
   "metadata": {},
   "source": [
    "### Question 1: What is the correlation between x1 and x2?\n",
    "From the correlation table, we see the correlation between x1 and x2 is 0.013460, revealing a slight positive correlation.\n",
    "\n",
    "### Question 2: You're thinking about estimating the model: y1 = b0+ b1*x1 + error; that is, you are omitting x2. Before estimating, do you think b1 will be biased? Why or why not? If yes, will b1 be an overestimate or an underestimate?\n",
    "Yes, omitting x2 will make b1 biased. Since x2 is positively correlated with x1 and also strongly positively correlated with y1, if we omit x2, the positive correlation between x2 and y1 will be attributed to x1. This will make it seems like x1 has a more positive correlation with y1 than it actually does such that b1 will be an overestimate.\n",
    "\n",
    "### Question 3: Estimate the model: y1 = b0 + b1*x1 + error using OLS with robust standard errors. Was your hypothesis in Question 2 correct?\n",
    "Regression with model y1 = b0 + b1*x1 + error results in b0 = 222.2364 and b1 = 1.3594. The actual model of the world is y1 = 1.3x1 + 4.5x2 + error where 1.3 is the matching coefficient for b1. Thus, since b1 = 1.3594 > 1.3, b1 is an overestimate, and our hypothesis is correct."
   ]
  },
  {
   "cell_type": "code",
   "execution_count": 4,
   "metadata": {},
   "outputs": [
    {
     "name": "stdout",
     "output_type": "stream",
     "text": [
      "Correlation table between all variables:\n",
      "          y1        y2        y3        x1        x2        x3\n",
      "y1  1.000000  0.723885  0.462326  0.291180  0.957684  0.353009\n",
      "y2  0.723885  1.000000  0.530262  0.724498  0.537554  0.590823\n",
      "y3  0.462326  0.530262  1.000000  0.833572  0.230993 -0.370743\n",
      "x1  0.291180  0.724498  0.833572  1.000000  0.013460  0.000401\n",
      "x2  0.957684  0.537554  0.230993  0.013460  1.000000  0.369034\n",
      "x3  0.353009  0.590823 -0.370743  0.000401  0.369034  1.000000\n",
      "                            OLS Regression Results                            \n",
      "==============================================================================\n",
      "Dep. Variable:                     y2   R-squared:                       0.804\n",
      "Model:                            OLS   Adj. R-squared:                  0.803\n",
      "Method:                 Least Squares   F-statistic:                     8773.\n",
      "Date:                Sun, 28 Apr 2024   Prob (F-statistic):               0.00\n",
      "Time:                        16:34:56   Log-Likelihood:                -12455.\n",
      "No. Observations:                4626   AIC:                         2.492e+04\n",
      "Df Residuals:                    4623   BIC:                         2.493e+04\n",
      "Df Model:                           2                                         \n",
      "Covariance Type:                  HC3                                         \n",
      "==============================================================================\n",
      "                 coef    std err          z      P>|z|      [0.025      0.975]\n",
      "------------------------------------------------------------------------------\n",
      "Intercept     21.0889      0.156    135.464      0.000      20.784      21.394\n",
      "x1             0.1994      0.002    107.063      0.000       0.196       0.203\n",
      "x2             0.1486      0.002     75.219      0.000       0.145       0.153\n",
      "==============================================================================\n",
      "Omnibus:                     1226.104   Durbin-Watson:                   1.982\n",
      "Prob(Omnibus):                  0.000   Jarque-Bera (JB):             3588.130\n",
      "Skew:                          -1.373   Prob(JB):                         0.00\n",
      "Kurtosis:                       6.328   Cond. No.                         204.\n",
      "==============================================================================\n",
      "\n",
      "Notes:\n",
      "[1] Standard Errors are heteroscedasticity robust (HC3)\n"
     ]
    }
   ],
   "source": [
    "# Part 2\n",
    "# The (artificially created) model of the world is\n",
    "#                    y2 = 0.2x1 + 0.1x2 + 13x3 + error\n",
    "\n",
    "# View correlation between x2 and x3\n",
    "print(\"Correlation table between all variables:\")\n",
    "print(df.corr())\n",
    "\n",
    "# Estimate the model y2 = b0+ b1*x1 + b2*x2 + error using OLS with robust standard errors\n",
    "reg2 = smf.ols(formula=\"y2 ~ x1 + x2\", data=df).fit(cov_type='HC3')\n",
    "print(reg2.summary())"
   ]
  },
  {
   "cell_type": "markdown",
   "metadata": {},
   "source": [
    "### Question 4: What is the correlation between x2 and x3?\n",
    "From the correlation table, we see the correlation between x2 and x3 is 0.369034, revealing a slight positive correlation.\n",
    "\n",
    "### Question 5: You're thinking about estimating the model: y2 = b0+ b1*x1 + b2*x2 + error; that is, you are omitting x3. Before estimating, do you think b2 will be biased? Why or why not? If yes, will b1 be an overestimate or an underestimate?\n",
    "Yes, omitting x3 will make b2 biased. First, we can recognize the correlation between x3 and x1 is insignificant (0.000401). Then, since x3 is positively correlated with x2 and also positively correlated with y2, if we omit x3, the positive correlation between x3 and y2 will be attributed to x2. This will make it seems like x2 has a more positive correlation with y2 than it actually does such that b2 will be an overestimate.\n",
    "\n",
    "### Question 6: Estimate the model: y2 = b0+ b1*x1 + b2*x2 + error using OLS with robust standard errors. Was your hypothesis in Question 5 correct?\n",
    "Regression with model y2 = b0+ b1*x1 + b2*x2 + error results b0 = 21.0889 and b1 = 0.1994 and b2 = 0.1486. The actual model of the world is y2 = 0.2x1 + 0.1x2 + 13x3 + error where 0.1 is the matching coefficient for b2. Thus, since b2 = 0.1486 > 0.1, b2 is an overestimate, and our hypothesis is correct."
   ]
  },
  {
   "cell_type": "code",
   "execution_count": 5,
   "metadata": {},
   "outputs": [
    {
     "name": "stdout",
     "output_type": "stream",
     "text": [
      "Correlation table between all variables:\n",
      "          y1        y2        y3        x1        x2        x3\n",
      "y1  1.000000  0.723885  0.462326  0.291180  0.957684  0.353009\n",
      "y2  0.723885  1.000000  0.530262  0.724498  0.537554  0.590823\n",
      "y3  0.462326  0.530262  1.000000  0.833572  0.230993 -0.370743\n",
      "x1  0.291180  0.724498  0.833572  1.000000  0.013460  0.000401\n",
      "x2  0.957684  0.537554  0.230993  0.013460  1.000000  0.369034\n",
      "x3  0.353009  0.590823 -0.370743  0.000401  0.369034  1.000000\n",
      "                            OLS Regression Results                            \n",
      "==============================================================================\n",
      "Dep. Variable:                     y3   R-squared:                       0.743\n",
      "Model:                            OLS   Adj. R-squared:                  0.743\n",
      "Method:                 Least Squares   F-statistic:                     6383.\n",
      "Date:                Sun, 28 Apr 2024   Prob (F-statistic):               0.00\n",
      "Time:                        16:34:56   Log-Likelihood:                -12423.\n",
      "No. Observations:                4626   AIC:                         2.485e+04\n",
      "Df Residuals:                    4623   BIC:                         2.487e+04\n",
      "Df Model:                           2                                         \n",
      "Covariance Type:                  HC3                                         \n",
      "==============================================================================\n",
      "                 coef    std err          z      P>|z|      [0.025      0.975]\n",
      "------------------------------------------------------------------------------\n",
      "Intercept    -21.1525      0.153   -137.976      0.000     -21.453     -20.852\n",
      "x1             0.2005      0.002    108.573      0.000       0.197       0.204\n",
      "x2             0.0538      0.002     27.250      0.000       0.050       0.058\n",
      "==============================================================================\n",
      "Omnibus:                     1179.780   Durbin-Watson:                   1.984\n",
      "Prob(Omnibus):                  0.000   Jarque-Bera (JB):             3349.512\n",
      "Skew:                           1.333   Prob(JB):                         0.00\n",
      "Kurtosis:                       6.205   Cond. No.                         204.\n",
      "==============================================================================\n",
      "\n",
      "Notes:\n",
      "[1] Standard Errors are heteroscedasticity robust (HC3)\n"
     ]
    }
   ],
   "source": [
    "# Part 3\n",
    "# The (artificially created) model of the world is\n",
    "#                    y3 = 0.2x1 + 0.1x2 - 13x3 + error\n",
    "\n",
    "# View correlation between x2 and x3\n",
    "print(\"Correlation table between all variables:\")\n",
    "print(df.corr())\n",
    "\n",
    "# Estimate the model y3 = b0+ b1*x1 + b2*x2 + error using OLS with robust standard errors\n",
    "reg3 = smf.ols(formula=\"y3 ~ x1 + x2\", data=df).fit(cov_type='HC3')\n",
    "print(reg3.summary())"
   ]
  },
  {
   "cell_type": "markdown",
   "metadata": {},
   "source": [
    "### Question 7: What is the correlation between x2 and x3?\n",
    "From the correlation table, we see the correlation between x2 and x3 is 0.369034, revealing a slight positive correlation.\n",
    "\n",
    "### Question 8: You're thinking about estimating the model: y3 = b0+ b1*x1 + b2*x2 + error; that is, you are omitting x3. Before estimating, do you think b2 will be biased? Why or why not? If yes, will b1 be an overestimate or an underestimate?\n",
    "Yes, omitting x3 will make b2 biased. First, we can recognize the correlation between x3 and x1 is insignificant (0.000401). Then, since x3 is positively correlated with x2 and also negatively correlated with y3, if we omit x3, the negative correlation between x3 and y3 will be attributed to x2. This will make it seems like x2 has a more negative correlation with y3 than it actually does such that b2 will be an underestimate.\n",
    "\n",
    "### Question 9: Estimate the model: y3 = b0+ b1*x1 + b2*x2 + error using OLS with robust standard errors. Was your hypothesis in Question 8 correct?\n",
    "Regression with model y3 = b0+ b1*x1 + b2*x2 + error results b0 = -21.1525 and b1 = 0.2005 and b2 = 0.0538. The actual model of the world is y3 = 0.2x1 + 0.1x2 - 13x3 + error where 0.1 is the matching coefficient for b2. Thus, since b2 = 0.0538 < 0.1, b2 is an underestimate, and our hypothesis is correct."
   ]
  }
 ],
 "metadata": {
  "kernelspec": {
   "display_name": "Python 3 (ipykernel)",
   "language": "python",
   "name": "python3"
  },
  "language_info": {
   "codemirror_mode": {
    "name": "ipython",
    "version": 3
   },
   "file_extension": ".py",
   "mimetype": "text/x-python",
   "name": "python",
   "nbconvert_exporter": "python",
   "pygments_lexer": "ipython3",
   "version": "3.12.3"
  }
 },
 "nbformat": 4,
 "nbformat_minor": 4
}
