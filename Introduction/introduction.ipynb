{
 "cells": [
  {
   "cell_type": "markdown",
   "metadata": {},
   "source": [
    "# Introduction\n",
    "# Installation and Preparation\n",
    "\n",
    "Hello! If you're viewing this notebook then you've successfully downloaded Anaconda. Good job!\n",
    "\n",
    "You can edit the contents of any cell by double-clicking it or pressing \"Return\" or \"Enter\". If you click on this cell, you will notice that I've used the \"Markdown\" mode, as opposed to \"Code\", to write this introduction. When you're done editing a cell, you can press \"Shift-Return\" (Mac) or \"Shift-Enter\" (Windows) to run the cell. When a cell has a number to the side that means that the cell has been executed (only in Code mode). The number tells you the order in which the cells were executed (i.e. cell [2] was executed after cell [1])\n",
    "\n",
    "There are other useful shortcuts that you should be aware of. I've included a list of them in the appendix of the HW1 description pdf file.\n",
    "\n",
    "Anaconda installs not only Python, but also a number of additional packages that we will use in this course.\n",
    "\n"
   ]
  },
  {
   "cell_type": "markdown",
   "metadata": {},
   "source": [
    "### Coding best practices\n",
    "\n",
    "You should always document your code with comments to help make your work readable and informative. For example, it is a good idea to write (in words) function inputs and outputs, or what the cells is accomplishing. You can put comments in your code by starting any line with '#'  - anything written in that line will be colored green. \n",
    "\n",
    "You can also easily comment/uncomment multiple lines. Just select multiple lines with your cursor and then press `Cmd and /` (`Ctrl and /` for Windows).\n",
    "\n",
    "After week 3, you will be writing complex web-scapring code that will contain blocks of code within other blocks, and you will need to change the indentation of multiple lines of code. You can indent multiple lines by selecting them and then pressing `Tab`. To de-indent, you press `Shift+Tab` instead.\n",
    "\n",
    "Finally, it is a good idea to split up your code into parts that can be run independenly. For example, you can use one cell to install the necessary packages, another one to read in the data, and a third one to transform the data or do analysis. Writing your code out in multiple cells also helps with debugging - you will know exactly which part of your code is throwing you the error. To create more cells, click the \"+\", second icon from the left.\n"
   ]
  },
  {
   "cell_type": "code",
   "execution_count": null,
   "metadata": {},
   "outputs": [],
   "source": [
    "# This is a comment inside a Code cell\n",
    "\n"
   ]
  },
  {
   "cell_type": "markdown",
   "metadata": {},
   "source": [
    "\n",
    "## Basic data types\n",
    "\n",
    "Python has eight built-in data types. Four of those are quite simple, in the sense that they can **store a single value**:\n",
    "\n",
    "* Integers\n",
    "* Floats\n",
    "* Booleans\n",
    "* Strings\n",
    "\n",
    "\n",
    "The other four are denoted collections because they can store arbitrary numbers of values. Python's four collection data types are:\n",
    "\n",
    "* Lists\n",
    "* Tuples\n",
    "* Sets\n",
    "* Dictionaries\n",
    "\n",
    "Now, let's start with one of the most basic data types, the integer."
   ]
  },
  {
   "cell_type": "markdown",
   "metadata": {},
   "source": [
    "## Integers\n",
    "\n",
    "An Python integer is a **natural number**, i.e. the numbers you count.\n",
    "\n",
    "Python allows you to do basic arithmetic with integers whether you define variables or not. Those operation are represented using the same notation you saw on a calculator."
   ]
  },
  {
   "cell_type": "code",
   "execution_count": null,
   "metadata": {},
   "outputs": [],
   "source": [
    "123 + 256"
   ]
  },
  {
   "cell_type": "markdown",
   "metadata": {},
   "source": [
    "We can also store the result of an operation into a variable. The variable will store the evaluated answer, not the arithmetic expression."
   ]
  },
  {
   "cell_type": "code",
   "execution_count": null,
   "metadata": {},
   "outputs": [],
   "source": [
    "first_result = 10 / 3\n",
    "first_result"
   ]
  },
  {
   "cell_type": "markdown",
   "metadata": {},
   "source": [
    "The division operator stores the answer that we are used to, which is $3.3\\bar{3}$. If you want to maintain the integer type after division, you can use truncating division with `//` like this:"
   ]
  },
  {
   "cell_type": "code",
   "execution_count": null,
   "metadata": {},
   "outputs": [],
   "source": [
    "second_result = 10 // 3\n",
    "second_result"
   ]
  },
  {
   "cell_type": "markdown",
   "metadata": {},
   "source": [
    "Finally, to get the remainder, use the symbol *%*"
   ]
  },
  {
   "cell_type": "code",
   "execution_count": null,
   "metadata": {},
   "outputs": [],
   "source": [
    "4.2 % 2"
   ]
  },
  {
   "cell_type": "markdown",
   "metadata": {},
   "source": [
    "## Floats\n",
    "\n",
    "A Python float is a **rational number**."
   ]
  },
  {
   "cell_type": "code",
   "execution_count": null,
   "metadata": {},
   "outputs": [],
   "source": [
    "new_float = 109.234\n",
    "print(new_float)"
   ]
  },
  {
   "cell_type": "markdown",
   "metadata": {},
   "source": [
    "To change an integer to a float or vice versa, we can cast the number using the data type name that we want to transform it to:"
   ]
  },
  {
   "cell_type": "code",
   "execution_count": null,
   "metadata": {},
   "outputs": [],
   "source": [
    "int(109.234)"
   ]
  },
  {
   "cell_type": "markdown",
   "metadata": {},
   "source": [
    "However, it won't stay that way unless we assign it to a new a variable!"
   ]
  },
  {
   "cell_type": "code",
   "execution_count": null,
   "metadata": {},
   "outputs": [],
   "source": [
    "basic_int = 109\n",
    "print( float(basic_int) )\n",
    "print( type(basic_int) )"
   ]
  },
  {
   "cell_type": "code",
   "execution_count": null,
   "metadata": {},
   "outputs": [],
   "source": [
    "float_basic_int = float(109)\n",
    "print( type(float_basic_int) )"
   ]
  },
  {
   "cell_type": "markdown",
   "metadata": {},
   "source": [
    "## Comparing numbers\n",
    "\n",
    "To compare the result of computations, we use the standard set of comparisons:"
   ]
  },
  {
   "cell_type": "raw",
   "metadata": {},
   "source": [
    "!=\n",
    "==\n",
    "<=\n",
    ">=\n",
    "<\n",
    ">"
   ]
  },
  {
   "cell_type": "markdown",
   "metadata": {},
   "source": [
    "The $==$ allows us to check if one side of the operator is equal to the other side."
   ]
  },
  {
   "cell_type": "markdown",
   "metadata": {},
   "source": [
    "Python evaluates the expression and tells us that it is `True` if it is correct or `False` if it is incorrect.\n",
    "\n",
    "The $!=$ operator allows us to check if one side does not equal the other side:"
   ]
  },
  {
   "cell_type": "markdown",
   "metadata": {},
   "source": [
    "The greater than, less than, greater than or equal to, and less than or equal to operators all work as we would expect."
   ]
  },
  {
   "cell_type": "markdown",
   "metadata": {},
   "source": [
    "## Booleans\n",
    "\n",
    "A Python Boolean is what is math is called a **logical variable** The Boolean data type is primarily associated with conditional statements (if/then), which allow different actions and change control flow depending on whether a programmer-specified Boolean condition evaluates to `True` or `False`."
   ]
  },
  {
   "cell_type": "code",
   "execution_count": null,
   "metadata": {},
   "outputs": [],
   "source": [
    "first = 1\n",
    "second = 2\n",
    "third = first + second\n",
    "\n",
    "print(third==3)"
   ]
  },
  {
   "cell_type": "markdown",
   "metadata": {},
   "source": [
    "## Strings\n",
    "\n",
    "A Python string is an ordered sequence of characters."
   ]
  },
  {
   "cell_type": "code",
   "execution_count": null,
   "metadata": {},
   "outputs": [],
   "source": [
    "bem = \"bem106\"\n",
    "print(bem)"
   ]
  },
  {
   "cell_type": "markdown",
   "metadata": {},
   "source": [
    "You can use basic math operators to add strings together and make a longer string, either with + or *"
   ]
  },
  {
   "cell_type": "code",
   "execution_count": null,
   "metadata": {},
   "outputs": [],
   "source": [
    "print(bem + bem)\n",
    "print(bem*10)"
   ]
  },
  {
   "cell_type": "markdown",
   "metadata": {},
   "source": [
    "There are functions that perform actions that you may need when working with strings:\n",
    "* `capitalize()`, makes the first character uppercase\n",
    "* `lower()`, makes the entire string lowercase\n",
    "* `upper()`, makes the entire string uppercase\n",
    "* `title()`, capitalizes every word in a string"
   ]
  },
  {
   "cell_type": "code",
   "execution_count": null,
   "metadata": {},
   "outputs": [],
   "source": [
    "print(bem.capitalize())\n",
    "print(bem.lower())\n",
    "print(bem.upper())\n",
    "bem2 = bem+\" and \" +bem\n",
    "print(bem2.title())"
   ]
  },
  {
   "cell_type": "markdown",
   "metadata": {},
   "source": [
    "What if we want to get rid off specific characters?\n",
    "\n",
    "* `strip`, deletes characters everywhere\n",
    "* `lstrip`, deletes characters from the left"
   ]
  },
  {
   "cell_type": "code",
   "execution_count": null,
   "metadata": {},
   "outputs": [],
   "source": [
    "test = \"When is the \"+bem +\" lecture today?\"\n",
    "print(test)\n",
    "print(test.lstrip(\"today?\"))\n",
    "print(test.strip(\"today?\"))\n",
    "print(test.lstrip(\"When \"))\n",
    "print(test.strip(\"When \"))"
   ]
  },
  {
   "cell_type": "markdown",
   "metadata": {},
   "source": [
    "We can also easily check whether the contents of string are either all alphabetical or numeric."
   ]
  },
  {
   "cell_type": "code",
   "execution_count": null,
   "metadata": {},
   "outputs": [],
   "source": [
    "test.isalpha() #note that test includes both numbers (106) and characters"
   ]
  },
  {
   "cell_type": "code",
   "execution_count": null,
   "metadata": {},
   "outputs": [],
   "source": [
    "test.isnumeric() #note that test includes both numbers (106) and characters"
   ]
  },
  {
   "cell_type": "code",
   "execution_count": null,
   "metadata": {},
   "outputs": [],
   "source": [
    "\"234\".isnumeric() # string only includes numbers"
   ]
  },
  {
   "cell_type": "code",
   "execution_count": null,
   "metadata": {},
   "outputs": [],
   "source": [
    "\"bem\".isalpha() # string only includes characters"
   ]
  },
  {
   "cell_type": "markdown",
   "metadata": {},
   "source": [
    "### Slicing a string\n",
    "\n",
    "We can get an element from a string with slicing\n",
    "\n",
    "The syntax for slicing is deceptively simple, the full syntax is:\n",
    "\n",
    "`variable[start_index : stop_index : step]`\n",
    "\n",
    "You'll see that all of the inputs go within the `[]` and the `:` separates each input. \n",
    "\n",
    "The `start_index` tells python which index we want to start getting elements from. The first element is denoted by 0.\n",
    "\n",
    "The `stop_index` tells python which index we want elements **up to but not including**\n",
    "\n",
    "The `step` tells python how many steps to take between elements within the range. This means that you don't need to take every element. You could take **every other** element. To do that you just specify a `step` of `2`.\n",
    "\n",
    "Python allows you to access elements by counting from the end of the string too.\n",
    "\n",
    "When counting from the end, you use negative indicies. The index **`-1`** denotes the last character in a string."
   ]
  },
  {
   "cell_type": "code",
   "execution_count": null,
   "metadata": {},
   "outputs": [],
   "source": [
    "print(bem[1])\n",
    "print(bem[1:4])\n",
    "print(bem[1:10:2])\n",
    "print(bem[-4:0])"
   ]
  },
  {
   "cell_type": "markdown",
   "metadata": {},
   "source": [
    "## This is the end of the python/Jupyter basics tutorial.\n",
    "Next up: brief homework exercises."
   ]
  },
  {
   "cell_type": "markdown",
   "metadata": {},
   "source": [
    "# Homework exercises: Introduction to Pandas\n",
    "\n",
    "The Pandas package allows you to manipulate spreadsheet-type data, like a company's stock price over time. \n",
    "\n",
    "## Benefits of Pandas\n",
    "\n",
    "1. Pandas easily handles reading in and outputing CSV/Excel files.\n",
    "2. Pandas takes care of many type conversions after reading a file.\n",
    "3. Accessing data from a Pandas dataframe is intuitive.\n",
    "4. Using Pandas is like working with SQL, which is something you'll encounter if you continue to program.\n",
    "\n",
    "Additional reading to get you started:\n",
    "\n",
    "The Pandas tutorial pages http://pandas.pydata.org/pandas-docs/stable/tutorials.html\n",
    "\n",
    "10 minutes to Pandas http://pandas.pydata.org/pandas-docs/stable/10min.html\n",
    "\n",
    "In this and future homeworks, I will provide you with prompts of what your code needs to accomplish. I expect you to reseach and investigate the answers on your own. Each block of code will be a seperate \"Exercise\" to keep things sequential and organized. Before jumping in to Pandas, I suggest that you research how to create and access the other data types in python: lists, tuples, sets, and dictionaries."
   ]
  },
  {
   "cell_type": "markdown",
   "metadata": {},
   "source": [
    "### Exercise 1: Import Pandas"
   ]
  },
  {
   "cell_type": "code",
   "execution_count": 1,
   "metadata": {},
   "outputs": [],
   "source": [
    "## Import the package and any other packages that we need\n",
    "import pandas as pd"
   ]
  },
  {
   "cell_type": "markdown",
   "metadata": {},
   "source": [
    "### Exercise 2: Read in the Excel file of CEO/median worker pay"
   ]
  },
  {
   "cell_type": "code",
   "execution_count": 2,
   "metadata": {},
   "outputs": [
    {
     "name": "stdout",
     "output_type": "stream",
     "text": [
      "C:\\Users\\jmtot\\AppData\\Local\\Programs\\Microsoft VS Code\n",
      "['bin', 'chrome_100_percent.pak', 'chrome_200_percent.pak', 'Code.exe', 'Code.VisualElementsManifest.xml', 'd3dcompiler_47.dll', 'ffmpeg.dll', 'icudtl.dat', 'libEGL.dll', 'libGLESv2.dll', 'LICENSES.chromium.html', 'locales', 'policies', 'resources', 'resources.pak', 'snapshot_blob.bin', 'tools', 'unins000.dat', 'unins000.exe', 'unins000.msg', 'v8_context_snapshot.bin', 'vk_swiftshader.dll', 'vk_swiftshader_icd.json', 'vulkan-1.dll']\n"
     ]
    }
   ],
   "source": [
    "##  Read in the excel file containing the data\n",
    "import os\n",
    "\n",
    "print(os.chdir())\n",
    "print(os.listdir())\n",
    "filename = \"Jayden-Nyamiaka/Popular-Methods-in-Data-Science/Introduction/ceo-worker-pay.xlsx\"\n",
    "#pd.read_excel(filename)"
   ]
  },
  {
   "cell_type": "markdown",
   "metadata": {},
   "source": [
    "Pandas reads in a `CSV`  or Excel files and it turns them into its own data structure called a `Dataframe`. This `Dataframe` is actually a Python class, you can think of it as just a type of *object*. Our data is inside this *object* and it controls how we can interact with it."
   ]
  },
  {
   "cell_type": "markdown",
   "metadata": {},
   "source": [
    "### Exercise 3: The basics of a dataframe\n",
    "\n",
    "A `Dataframe` has two basic ways to access values inside of it.\n",
    "\n",
    "The **columns** run across the **top**\n",
    "\n",
    "The **indices** run down the **left** (for now, you can think of these as rows)\n",
    "\n",
    "We can get see the variables by calling them by name from the `dataframe`"
   ]
  },
  {
   "cell_type": "code",
   "execution_count": null,
   "metadata": {},
   "outputs": [],
   "source": [
    "# Access/Print the column names\n",
    "\n",
    "\n",
    "# Access/Print the row/index names\n"
   ]
  },
  {
   "cell_type": "markdown",
   "metadata": {},
   "source": [
    "### Exercise 4: Accessing Data in Pandas\n",
    "\n",
    "You can access a column using two ways: either by typing the name of the column after the dataframe name, and the other way is similar to accessing a key in a dictionary."
   ]
  },
  {
   "cell_type": "code",
   "execution_count": null,
   "metadata": {},
   "outputs": [],
   "source": [
    "# Access/Print the column that lists median worker pay through its column name\n",
    "\n",
    "\n",
    "# Access/Print the column that lists the CEO name through key-in-dictionary way"
   ]
  },
  {
   "cell_type": "markdown",
   "metadata": {},
   "source": [
    "### Exercise 5: Accessing indeces/rows"
   ]
  },
  {
   "cell_type": "code",
   "execution_count": null,
   "metadata": {},
   "outputs": [],
   "source": [
    "# Access/Print the first three rows\n",
    "\n",
    "\n",
    "# Access/Print the last column\n",
    "\n",
    "\n",
    "## Access/Print all rows where TOtal CEO Compensation is above $20mil"
   ]
  },
  {
   "cell_type": "markdown",
   "metadata": {},
   "source": [
    "### Exercise 6: Slicing in Pandas\n",
    "\n",
    "There are two other ways of accessing data in pandas, using the .loc and .iloc methods.\n",
    "\n",
    "* .iloc is integer based and works on the index\n",
    "* .loc is strictly label based"
   ]
  },
  {
   "cell_type": "code",
   "execution_count": null,
   "metadata": {},
   "outputs": [],
   "source": [
    "## Access the 100-104 rows and the column names \n",
    "\n",
    "### Access the index label\n",
    "\n",
    "## Reindex the dataframe to have the Company Name as the new index\n",
    "\n",
    "## Access the following companies through the .loc method (after re-indexing): Aramark, Blackrock Inc, Cigna Corp"
   ]
  },
  {
   "cell_type": "markdown",
   "metadata": {},
   "source": [
    "### Exercise 7: Basic data plots"
   ]
  },
  {
   "cell_type": "code",
   "execution_count": null,
   "metadata": {},
   "outputs": [],
   "source": [
    "## Generate a scatterplot with x-axis being median worker pay and y-axis CEO Total compensation\n",
    "\n",
    "## Print the correlation between median worker pay CEO Total compensation\n",
    "\n",
    "## Run a regression (with a constant) of median worker pay on CEO Total Compensation\n",
    "\n",
    "## Plot your regression line on the scatterplot\n",
    "\n",
    "## Generate a histogram of % CEO compensation that is cash\n"
   ]
  },
  {
   "cell_type": "markdown",
   "metadata": {},
   "source": [
    "### Exercise 8: Advanced data plots"
   ]
  },
  {
   "cell_type": "code",
   "execution_count": null,
   "metadata": {},
   "outputs": [],
   "source": [
    "## Create a pie plot of total ceo compensation of all CEOs whose first name is \"Jeffrey\"\n",
    "\n",
    "## Create a histogram of the first letter in CEO last names\n",
    "\n",
    "## Create a stacked bar plot where the x-axis is the decile (0-10%, 10-20%, etc) of %CEO Comp that is cash and the y-axis is median worker pay and total ceo compensation.\n"
   ]
  }
 ],
 "metadata": {
  "kernelspec": {
   "display_name": "Python 3 (ipykernel)",
   "language": "python",
   "name": "python3"
  },
  "language_info": {
   "codemirror_mode": {
    "name": "ipython",
    "version": 3
   },
   "file_extension": ".py",
   "mimetype": "text/x-python",
   "name": "python",
   "nbconvert_exporter": "python",
   "pygments_lexer": "ipython3",
   "version": "3.12.3"
  }
 },
 "nbformat": 4,
 "nbformat_minor": 4
}
